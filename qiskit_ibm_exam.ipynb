{
 "cells": [
  {
   "cell_type": "markdown",
   "metadata": {},
   "source": [
    "# IBM_QISKIT_EXAM_C1000-112 "
   ]
  },
  {
   "cell_type": "code",
   "execution_count": 2,
   "metadata": {},
   "outputs": [],
   "source": [
    "import matplotlib as mpl\n",
    "import qiskit\n",
    "import pylatexenc\n",
    "from qiskit import QuantumCircuit, QuantumRegister, ClassicalRegister, execute, Aer\n",
    "from qiskit.visualization import *"
   ]
  },
  {
   "cell_type": "code",
   "execution_count": 5,
   "metadata": {},
   "outputs": [
    {
     "data": {
      "text/plain": [
       "{'qiskit-terra': '0.24.0', 'qiskit-aer': '0.12.0', 'qiskit-ignis': None, 'qiskit-ibmq-provider': '0.20.2', 'qiskit': '0.43.0', 'qiskit-nature': None, 'qiskit-finance': None, 'qiskit-optimization': None, 'qiskit-machine-learning': None}"
      ]
     },
     "execution_count": 5,
     "metadata": {},
     "output_type": "execute_result"
    }
   ],
   "source": [
    "# Perform operations around the Qiskit version\n",
    "qiskit.__qiskit_version__"
   ]
  },
  {
   "cell_type": "code",
   "execution_count": 16,
   "metadata": {},
   "outputs": [
    {
     "data": {
      "text/plain": [
       "<qiskit.circuit.instructionset.InstructionSet at 0x7fa8e99dba30>"
      ]
     },
     "execution_count": 16,
     "metadata": {},
     "output_type": "execute_result"
    }
   ],
   "source": [
    "# Construct multi-qubit quantum registers\n",
    "qr = QuantumRegister(2)\n",
    "cr = ClassicalRegister(2)\n",
    "\n",
    "# Measure quantum circuits in classical registers\n",
    "qc = QuantumCircuit(qr, cr)\n",
    "qc.h(0)\n",
    "qc.cx(0,1)\n",
    "# Use barrier operations\n",
    "qc.barrier()\n",
    "qc.measure(0, 0)\n",
    "qc.measure(1, 1)"
   ]
  },
  {
   "cell_type": "code",
   "execution_count": 19,
   "metadata": {},
   "outputs": [
    {
     "data": {
      "text/plain": [
       "'OPENQASM 2.0;\\ninclude \"qelib1.inc\";\\nqreg q8[2];\\ncreg c7[2];\\nh q8[0];\\ncx q8[0],q8[1];\\nbarrier q8[0],q8[1];\\nmeasure q8[0] -> c7[0];\\nmeasure q8[1] -> c7[1];\\n'"
      ]
     },
     "execution_count": 19,
     "metadata": {},
     "output_type": "execute_result"
    }
   ],
   "source": [
    "# Return the OpenQASM string for a circuit\n",
    "qasm_code = qc.qasm()\n",
    "qasm_code"
   ]
  },
  {
   "cell_type": "code",
   "execution_count": 39,
   "metadata": {},
   "outputs": [
    {
     "data": {
      "text/html": [
       "<pre style=\"word-wrap: normal;white-space: pre;background: #fff0;line-height: 1.1;font-family: &quot;Courier New&quot;,Courier,monospace\">      ┌───┐      ░ ┌─┐   \n",
       "q8_0: ┤ H ├──■───░─┤M├───\n",
       "      └───┘┌─┴─┐ ░ └╥┘┌─┐\n",
       "q8_1: ─────┤ X ├─░──╫─┤M├\n",
       "           └───┘ ░  ║ └╥┘\n",
       "c7: 2/══════════════╩══╩═\n",
       "                    0  1 </pre>"
      ],
      "text/plain": [
       "      ┌───┐      ░ ┌─┐   \n",
       "q8_0: ┤ H ├──■───░─┤M├───\n",
       "      └───┘┌─┴─┐ ░ └╥┘┌─┐\n",
       "q8_1: ─────┤ X ├─░──╫─┤M├\n",
       "           └───┘ ░  ║ └╥┘\n",
       "c7: 2/══════════════╩══╩═\n",
       "                    0  1 "
      ]
     },
     "execution_count": 39,
     "metadata": {},
     "output_type": "execute_result"
    }
   ],
   "source": [
    "# Read a QASM file and string\n",
    "qc2 = QuantumCircuit.from_qasm_str(qasm_code)\n",
    "\n",
    "# Draw a circuit\n",
    "qc.draw(\"text\")"
   ]
  },
  {
   "cell_type": "code",
   "execution_count": 40,
   "metadata": {},
   "outputs": [
    {
     "data": {
      "text/plain": [
       "3"
      ]
     },
     "execution_count": 40,
     "metadata": {},
     "output_type": "execute_result"
    }
   ],
   "source": [
    "# Return the circuit depth\n",
    "qc.depth()"
   ]
  },
  {
   "cell_type": "code",
   "execution_count": 49,
   "metadata": {},
   "outputs": [
    {
     "name": "stdout",
     "output_type": "stream",
     "text": [
      "JobStatus.INITIALIZING\n",
      "JobStatus.DONE\n"
     ]
    },
    {
     "data": {
      "text/plain": [
       "Result(backend_name='qasm_simulator', backend_version='0.12.0', qobj_id='', job_id='9e5e6051-e5c4-42fd-aa56-2bef9d48d1e7', success=True, results=[ExperimentResult(shots=1000, success=True, meas_level=2, data=ExperimentResultData(counts={'0x3': 477, '0x0': 523}), header=QobjExperimentHeader(creg_sizes=[['c7', 2]], global_phase=0.0, memory_slots=2, metadata=None, n_qubits=2, name='circuit-146', qreg_sizes=[['q8', 2]]), status=DONE, seed_simulator=3791582813, metadata={'noise': 'ideal', 'batched_shots_optimization': False, 'measure_sampling': True, 'parallel_shots': 1, 'remapped_qubits': False, 'active_input_qubits': [0, 1], 'num_clbits': 2, 'parallel_state_update': 4, 'sample_measure_time': 0.001076499, 'num_qubits': 2, 'device': 'CPU', 'input_qubit_map': [[1, 1], [0, 0]], 'method': 'stabilizer', 'fusion': {'enabled': False}}, time_taken=0.003072661)], date=2023-07-25T13:21:22.250136, status=COMPLETED, header=None, metadata={'time_taken_execute': 0.003104387, 'mpi_rank': 0, 'num_mpi_processes': 1, 'max_gpu_memory_mb': 0, 'max_memory_mb': 11849, 'parallel_experiments': 1, 'num_processes_per_experiments': 1, 'omp_enabled': True}, time_taken=0.0038836002349853516)"
      ]
     },
     "execution_count": 49,
     "metadata": {},
     "output_type": "execute_result"
    }
   ],
   "source": [
    "# Access a qasm_simulator backend\n",
    "sim = Aer.get_backend('qasm_simulator')\n",
    "\n",
    "# Execute a quantum circuit\n",
    "job = execute(qc2, sim, shots=1000)\n",
    "\n",
    "# Monitor the status of a job instance\n",
    "print(job.status())\n",
    "import time\n",
    "time.sleep(1)\n",
    "print(job.status())\n",
    "\n",
    "\n",
    "result = job.result()\n",
    "result"
   ]
  },
  {
   "cell_type": "code",
   "execution_count": 52,
   "metadata": {},
   "outputs": [
    {
     "data": {
      "image/png": "[encoded data removed]",
      "text/plain": [
       "<Figure size 700x500 with 1 Axes>"
      ]
     },
     "execution_count": 52,
     "metadata": {},
     "output_type": "execute_result"
    }
   ],
   "source": [
    "# Plot a histogram of data\n",
    "# Return and understand the histogram data of an experiment\n",
    "counts = result.get_counts()\n",
    "plot_histogram(counts)\n"
   ]
  },
  {
   "cell_type": "code",
   "execution_count": 11,
   "metadata": {},
   "outputs": [
    {
     "name": "stdout",
     "output_type": "stream",
     "text": [
      "Statevector([0.+0.j, 1.+0.j, 0.+0.j, 0.+0.j],\n",
      "            dims=(2, 2))\n",
      "Statevector([-0.0142032+0.j        ,  0.       -0.99989913j,\n",
      "              0.       +0.j        ,  0.       +0.j        ],\n",
      "            dims=(2, 2))\n",
      "0.999798269234043\n"
     ]
    }
   ],
   "source": [
    "# Access a statevector_simulator backend\n",
    "from qiskit.quantum_info import state_fidelity\n",
    "\n",
    "backend = Aer.get_backend('statevector_simulator')\n",
    "\n",
    "qc1 = QuantumCircuit(2,1)\n",
    "qc1.x(0)\n",
    "\n",
    "qc2 = QuantumCircuit(2,1)\n",
    "qc2.rx(3.17, 0)\n",
    "\n",
    "# Return and understand the statevector of an experiment\n",
    "sv1 = execute(qc1, backend).result().get_statevector(qc1)\n",
    "sv2 = execute(qc2, backend).result().get_statevector(qc2)\n",
    "print(sv1)\n",
    "print(sv2)\n",
    "\n",
    "# Measure fidelity\n",
    "print(state_fidelity(sv1, sv2))"
   ]
  },
  {
   "cell_type": "code",
   "execution_count": 17,
   "metadata": {},
   "outputs": [
    {
     "data": {
      "text/latex": [
       "$$\n",
       "\n",
       "\\begin{bmatrix}\n",
       "0 & \\frac{\\sqrt{2}}{2} & 0 & \\frac{\\sqrt{2}}{2}  \\\\\n",
       " \\frac{\\sqrt{2}}{2} & 0 & \\frac{\\sqrt{2}}{2} & 0  \\\\\n",
       " \\frac{\\sqrt{2}}{2} & 0 & - \\frac{\\sqrt{2}}{2} & 0  \\\\\n",
       " 0 & \\frac{\\sqrt{2}}{2} & 0 & - \\frac{\\sqrt{2}}{2}  \\\\\n",
       " \\end{bmatrix}\n",
       "$$"
      ],
      "text/plain": [
       "<IPython.core.display.Latex object>"
      ]
     },
     "execution_count": 17,
     "metadata": {},
     "output_type": "execute_result"
    }
   ],
   "source": [
    "# Access a unitary_simulator backend\n",
    "backend = Aer.get_backend('unitary_simulator')\n",
    "qc6 = QuantumCircuit(2)\n",
    "qc6.h(1)\n",
    "qc6.x(0)\n",
    "qc6.cx(1,0)\n",
    "\n",
    "# Return and understand the unitary of an experiment\n",
    "unit = execute(qc6, backend).result().get_unitary(qc6)\n",
    "array_to_latex(unit)"
   ]
  },
  {
   "cell_type": "markdown",
   "metadata": {},
   "source": [
    "x   Construct multi-qubit quantum registers\n",
    "x   Measure quantum circuits in classical registers\n",
    "x   Use single-qubit gates\n",
    "x   Use multi-qubit gates\n",
    "x   Use barrier operations\n",
    "x   Return the circuit depth\n",
    "    Extend quantum circuits\n",
    "x   Return the OpenQASM string for a circuit\n",
    "\n",
    "x   Execute a quantum circuit\n",
    "\n",
    "x   Use the available simulators\n",
    "\n",
    "x   Read a QASM file and string\n",
    "\n",
    "x   Use classical and quantum registers\n",
    "    Use operators\n",
    "x   Measure fidelity\n",
    "\n",
    "x   Return and understand the histogram data of an experiment\n",
    "x   Return and understand the statevector of an experiment\n",
    "x   Return and understand the unitary of an experiment\n",
    "\n",
    "x   Monitor the status of a job instance\n",
    "\n",
    "x   Perform operations around the Qiskit version\n",
    "    Use information gained from %quiskit_backend_overview\n",
    "\n",
    "x   Draw a circuit\n",
    "x   Plot a histogram of data\n",
    "    Plot a Bloch multivector\n",
    "    Plot a Bloch vector\n",
    "    Plot a QSphere\n",
    "    Plot a density matrix\n",
    "    Plot a gate map with error rates\n",
    "\n",
    "x   Access a statevector_simulator backend\n",
    "x   Access a qasm_simulator backend\n",
    "x   Access a unitary_simulator backend"
   ]
  }
 ],
 "metadata": {
  "kernelspec": {
   "display_name": "Python 3",
   "language": "python",
   "name": "python3"
  },
  "language_info": {
   "codemirror_mode": {
    "name": "ipython",
    "version": 3
   },
   "file_extension": ".py",
   "mimetype": "text/x-python",
   "name": "python",
   "nbconvert_exporter": "python",
   "pygments_lexer": "ipython3",
   "version": "3.8.16"
  },
  "orig_nbformat": 4
 },
 "nbformat": 4,
 "nbformat_minor": 2
}
